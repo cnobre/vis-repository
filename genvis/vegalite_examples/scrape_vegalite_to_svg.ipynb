{
 "cells": [
  {
   "cell_type": "code",
   "execution_count": 2,
   "id": "9e6d89c3-4a04-40b5-99e7-ed0e74d99b22",
   "metadata": {},
   "outputs": [],
   "source": [
    "from selenium import webdriver\n",
    "from bs4 import BeautifulSoup\n",
    "import altair as alt\n",
    "import vl_convert as vlc\n",
    "import time\n",
    "import json"
   ]
  },
  {
   "cell_type": "code",
   "execution_count": null,
   "id": "0ef62095-a14a-4794-8478-fd365b020e87",
   "metadata": {},
   "outputs": [],
   "source": []
  },
  {
   "cell_type": "code",
   "execution_count": 7,
   "id": "0a511e21-d001-4cb0-a721-2429635ca95a",
   "metadata": {},
   "outputs": [],
   "source": [
    "# Setup Selenium WebDriver (example with Chrome)\n",
    "driver = webdriver.Chrome()\n",
    "\n",
    "# Navigate to the target website\n",
    "website_url = \"https://vega.github.io/vega-lite/examples/\"\n",
    "driver.get(website_url)\n",
    "time.sleep(5)  # Wait for the page to fully load\n",
    "\n",
    "# Use BeautifulSoup to parse the page source\n",
    "soup = BeautifulSoup(driver.page_source, 'html.parser')\n",
    "# Find all 'a' elements with the class 'imagegroup'\n",
    "elements = soup.find_all('a', class_='imagegroup')\n",
    "\n",
    "# Dictionary to store titles and hrefs\n",
    "vis_examples = {}\n",
    "\n",
    "vis = [\n",
    "    'Simple Bar Chart',\n",
    "    'Stacked Bar Chart',\n",
    "    'Diverging Stacked Bar Chart (with Neutral Parts)',\n",
    "    'Histogram (from Binned Data)',\n",
    "    '2D Histogram Heatmap',\n",
    "    'Colored Scatterplot',\n",
    "    'Bubble Plot (Natural Disasters)',\n",
    "    'Multi Series Line Chart',\n",
    "    'Slope Graph',\n",
    "    'A comet chart showing changes between between two states',\n",
    "    'Area Chart',\n",
    "    'Stacked Area Chart',\n",
    "    'Annual Weather Heatmap',\n",
    "    'Lasagna Plot (Dense Time-Series Heatmap)',\n",
    "    'Mosaic Chart with Labels',\n",
    "    'Radial Plot',\n",
    "    'Waterfall Chart of Monthly Profit and Loss',\n",
    "    'Parallel Coordinate Plot',\n",
    "    'Scatterplot with Mean and Standard Deviation Overlay',\n",
    "    'Box Plot with Pre-Calculated Summaries',\n",
    "    'Ranged Dot Plot',\n",
    "    'Horizon Graph',\n",
    "    'Horizontally Repeated Charts',\n",
    "    'Choropleth of Unemployment Rate per County',\n",
    "    'One Dot per Zipcode in the U.S.'\n",
    "]\n",
    "\n",
    "for element in elements:\n",
    "    title_span = element.find('span', class_='image-title')\n",
    "    if title_span:\n",
    "        title = title_span.text.strip()\n",
    "        if title not in vis:\n",
    "            continue\n",
    "        href = element['href']\n",
    "        vis_examples[title] = {'url': href}\n",
    "\n",
    "\n",
    "# Iterate through the titles and hrefs, navigating to each page\n",
    "for title, values in vis_examples.items():\n",
    "    full_url = \"https://vega.github.io\" + values['url']  # Corrected to use the absolute path\n",
    "    driver.get(full_url)\n",
    "    time.sleep(5)  # Wait for the page to load\n",
    "    \n",
    "    # Re-parse the page with BeautifulSoup\n",
    "    soup = BeautifulSoup(driver.page_source, 'html.parser')\n",
    "    code_element = soup.find('code', {'class': 'language-json', 'data-highlighted': 'yes'})\n",
    "    \n",
    "    # If a code element is found, append the JSON data\n",
    "    if code_element:\n",
    "        json_text = ''.join(code_element.stripped_strings)\n",
    "        vis_examples[title]['spec'] = json.loads(json_text)\n",
    "\n",
    "# Close the WebDriver\n",
    "driver.quit()\n",
    "\n"
   ]
  },
  {
   "cell_type": "code",
   "execution_count": 14,
   "id": "191f4b57-ab4a-4b8f-9eeb-e9f5f90e1836",
   "metadata": {},
   "outputs": [
    {
     "name": "stdout",
     "output_type": "stream",
     "text": [
      "output/diverging_stacked_bar_chart_(with_neutral_parts).svg was not created\n",
      "output/a_comet_chart_showing_changes_between_between_two_states.svg was not created\n",
      "output/horizon_graph.svg was not created\n",
      "output/one_dot_per_zipcode_in_the_u.s..svg was not created\n"
     ]
    }
   ],
   "source": [
    "for title, values in vis_examples.items():\n",
    "    # Create the chart from the Vega-Lite specification\n",
    "    \n",
    "    png_filename = f\"output/{title.lower().replace(' ', '_')}.png\"\n",
    "    try:\n",
    "        png_data = vlc.vegalite_to_png(vl_spec=values['spec']) # , scale=2)\n",
    "        with open(png_filename, \"wb\") as f:\n",
    "            f.write(png_data)\n",
    "    except:\n",
    "        print(f'{png_filename} was not created')\n",
    "        \n",
    "\n",
    "    svg_filename = f\"output/{title.lower().replace(' ', '_')}.svg\"\n",
    "    try:\n",
    "        svg_str = vlc.vegalite_to_svg(vl_spec=values['spec']) # , scale=2)\n",
    "        with open(svg_filename, \"wt\") as f:\n",
    "            f.write(svg_str)\n",
    "    except:\n",
    "        print(f'{svg_filename} was not created')\n",
    "\n"
   ]
  }
 ],
 "metadata": {
  "kernelspec": {
   "display_name": "Python 3 (ipykernel)",
   "language": "python",
   "name": "python3"
  },
  "language_info": {
   "codemirror_mode": {
    "name": "ipython",
    "version": 3
   },
   "file_extension": ".py",
   "mimetype": "text/x-python",
   "name": "python",
   "nbconvert_exporter": "python",
   "pygments_lexer": "ipython3",
   "version": "3.12.2"
  }
 },
 "nbformat": 4,
 "nbformat_minor": 5
}
